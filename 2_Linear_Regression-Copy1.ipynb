{
 "cells": [
  {
   "cell_type": "markdown",
   "metadata": {},
   "source": [
    "# Cruise Ship Crew Size Prediction"
   ]
  },
  {
   "cell_type": "markdown",
   "metadata": {
    "collapsed": true
   },
   "source": [
    "Congratulations! You've been contracted by Hyundai Heavy Industries to help them build a predictive model for some ships. [Hyundai Heavy Industries](http://www.hyundai.eu/en) is one of the world's largest ship manufacturing companies and builds cruise liners.\n",
    "\n",
    "You've been flown to their headquarters in Ulsan, South Korea to help them give accurate estimates of how many crew members a ship will require.\n",
    "\n",
    "They are currently building new ships for some customers and want you to create a model and use it to predict how many crew members the ships will need.\n",
    "\n",
    "Here is what the data looks like so far:\n",
    "\n",
    "    Description: Measurements of ship size, capacity, crew, and age for 158 cruise\n",
    "    ships.\n",
    "\n",
    "    Variables/Columns\n",
    "    Ship Name     1-20\n",
    "    Cruise Line   21-40\n",
    "    Age (as of 2013)   46-48\n",
    "    Tonnage (1000s of tons)   50-56\n",
    "    passengers (100s)   58-64\n",
    "    Length (100s of feet)  66-72\n",
    "    Cabins  (100s)   74-80\n",
    "    Passenger Density   82-88\n",
    "    Crew  (100s)   90-96\n",
    "   "
   ]
  },
  {
   "cell_type": "code",
   "execution_count": 1,
   "metadata": {},
   "outputs": [
    {
     "data": {
      "text/html": [
       "<style>.container { width:100% !important; }</style>"
      ],
      "text/plain": [
       "<IPython.core.display.HTML object>"
      ]
     },
     "metadata": {},
     "output_type": "display_data"
    }
   ],
   "source": [
    "from IPython.core.display import display, HTML\n",
    "display(HTML(\"<style>.container { width:100% !important; }</style>\"))"
   ]
  },
  {
   "cell_type": "markdown",
   "metadata": {},
   "source": [
    "### Imports"
   ]
  },
  {
   "cell_type": "code",
   "execution_count": 2,
   "metadata": {},
   "outputs": [],
   "source": [
    "from pyspark.sql import SparkSession\n",
    "import seaborn as sns\n",
    "%matplotlib inline"
   ]
  },
  {
   "cell_type": "markdown",
   "metadata": {},
   "source": [
    "### Start Spark Session"
   ]
  },
  {
   "cell_type": "code",
   "execution_count": 4,
   "metadata": {},
   "outputs": [],
   "source": [
    "spark = SparkSession.builder.appName('Linear_Regression').getOrCreate()"
   ]
  },
  {
   "cell_type": "markdown",
   "metadata": {},
   "source": [
    "### Read Data"
   ]
  },
  {
   "cell_type": "code",
   "execution_count": 5,
   "metadata": {
    "collapsed": true
   },
   "outputs": [],
   "source": [
    "df = spark.read.csv('cruise_ship_info.csv', inferSchema=True, header=True)"
   ]
  },
  {
   "cell_type": "markdown",
   "metadata": {},
   "source": [
    "### View Data"
   ]
  },
  {
   "cell_type": "code",
   "execution_count": 6,
   "metadata": {},
   "outputs": [
    {
     "name": "stdout",
     "output_type": "stream",
     "text": [
      "+-----------+-----------+---+------------------+----------+------+------+-----------------+----+\n",
      "|  Ship_name|Cruise_line|Age|           Tonnage|passengers|length|cabins|passenger_density|crew|\n",
      "+-----------+-----------+---+------------------+----------+------+------+-----------------+----+\n",
      "|    Journey|    Azamara|  6|30.276999999999997|      6.94|  5.94|  3.55|            42.64|3.55|\n",
      "|      Quest|    Azamara|  6|30.276999999999997|      6.94|  5.94|  3.55|            42.64|3.55|\n",
      "|Celebration|   Carnival| 26|            47.262|     14.86|  7.22|  7.43|             31.8| 6.7|\n",
      "|   Conquest|   Carnival| 11|             110.0|     29.74|  9.53| 14.88|            36.99|19.1|\n",
      "|    Destiny|   Carnival| 17|           101.353|     26.42|  8.92| 13.21|            38.36|10.0|\n",
      "|    Ecstasy|   Carnival| 22|            70.367|     20.52|  8.55|  10.2|            34.29| 9.2|\n",
      "|    Elation|   Carnival| 15|            70.367|     20.52|  8.55|  10.2|            34.29| 9.2|\n",
      "|    Fantasy|   Carnival| 23|            70.367|     20.56|  8.55| 10.22|            34.23| 9.2|\n",
      "|Fascination|   Carnival| 19|            70.367|     20.52|  8.55|  10.2|            34.29| 9.2|\n",
      "|    Freedom|   Carnival|  6|110.23899999999999|      37.0|  9.51| 14.87|            29.79|11.5|\n",
      "|      Glory|   Carnival| 10|             110.0|     29.74|  9.51| 14.87|            36.99|11.6|\n",
      "|    Holiday|   Carnival| 28|            46.052|     14.52|  7.27|  7.26|            31.72| 6.6|\n",
      "|Imagination|   Carnival| 18|            70.367|     20.52|  8.55|  10.2|            34.29| 9.2|\n",
      "|Inspiration|   Carnival| 17|            70.367|     20.52|  8.55|  10.2|            34.29| 9.2|\n",
      "|     Legend|   Carnival| 11|              86.0|     21.24|  9.63| 10.62|            40.49| 9.3|\n",
      "|   Liberty*|   Carnival|  8|             110.0|     29.74|  9.51| 14.87|            36.99|11.6|\n",
      "|    Miracle|   Carnival|  9|              88.5|     21.24|  9.63| 10.62|            41.67|10.3|\n",
      "|   Paradise|   Carnival| 15|            70.367|     20.52|  8.55|  10.2|            34.29| 9.2|\n",
      "|      Pride|   Carnival| 12|              88.5|     21.24|  9.63| 11.62|            41.67| 9.3|\n",
      "|  Sensation|   Carnival| 20|            70.367|     20.52|  8.55|  10.2|            34.29| 9.2|\n",
      "+-----------+-----------+---+------------------+----------+------+------+-----------------+----+\n",
      "only showing top 20 rows\n",
      "\n"
     ]
    }
   ],
   "source": [
    "df.show(20)"
   ]
  },
  {
   "cell_type": "code",
   "execution_count": 7,
   "metadata": {},
   "outputs": [
    {
     "name": "stdout",
     "output_type": "stream",
     "text": [
      "root\n",
      " |-- Ship_name: string (nullable = true)\n",
      " |-- Cruise_line: string (nullable = true)\n",
      " |-- Age: integer (nullable = true)\n",
      " |-- Tonnage: double (nullable = true)\n",
      " |-- passengers: double (nullable = true)\n",
      " |-- length: double (nullable = true)\n",
      " |-- cabins: double (nullable = true)\n",
      " |-- passenger_density: double (nullable = true)\n",
      " |-- crew: double (nullable = true)\n",
      "\n"
     ]
    }
   ],
   "source": [
    "df.printSchema()"
   ]
  },
  {
   "cell_type": "markdown",
   "metadata": {},
   "source": [
    "### Split Data to avoid contamination"
   ]
  },
  {
   "cell_type": "code",
   "execution_count": 8,
   "metadata": {
    "collapsed": true
   },
   "outputs": [],
   "source": [
    "train_data, test_data = df.randomSplit([.8, .2])"
   ]
  },
  {
   "cell_type": "code",
   "execution_count": 9,
   "metadata": {},
   "outputs": [
    {
     "data": {
      "text/plain": [
       "126"
      ]
     },
     "execution_count": 9,
     "metadata": {},
     "output_type": "execute_result"
    }
   ],
   "source": [
    "train_data.count()"
   ]
  },
  {
   "cell_type": "code",
   "execution_count": 10,
   "metadata": {},
   "outputs": [
    {
     "data": {
      "text/plain": [
       "32"
      ]
     },
     "execution_count": 10,
     "metadata": {},
     "output_type": "execute_result"
    }
   ],
   "source": [
    "test_data.count()"
   ]
  },
  {
   "cell_type": "markdown",
   "metadata": {},
   "source": [
    "### Quick Analysis"
   ]
  },
  {
   "cell_type": "code",
   "execution_count": 11,
   "metadata": {},
   "outputs": [
    {
     "name": "stdout",
     "output_type": "stream",
     "text": [
      "+-------+---------+-----------+------------------+-----------------+------------------+------------------+------------------+-----------------+-----------------+\n",
      "|summary|Ship_name|Cruise_line|               Age|          Tonnage|        passengers|            length|            cabins|passenger_density|             crew|\n",
      "+-------+---------+-----------+------------------+-----------------+------------------+------------------+------------------+-----------------+-----------------+\n",
      "|  count|      126|        126|               126|              126|               126|               126|               126|              126|              126|\n",
      "|   mean| Infinity|       null|15.492063492063492|70.88364285714286|18.281428571428574| 8.101825396825395| 8.722619047619052|40.12690476190477|7.751111111111114|\n",
      "| stddev|      NaN|       null| 7.350369821167945|37.66860256679864| 9.856469608478344|1.7825412873955662|4.5490556696653295|8.819480752451197|3.582026515194374|\n",
      "|    min|  Allegra|    Azamara|                 4|            2.329|              0.66|              2.79|              0.33|            23.87|             0.59|\n",
      "|    max|Zuiderdam|   Windstar|                48|            220.0|              54.0|             11.82|              27.0|            71.43|             21.0|\n",
      "+-------+---------+-----------+------------------+-----------------+------------------+------------------+------------------+-----------------+-----------------+\n",
      "\n"
     ]
    }
   ],
   "source": [
    "train_data.describe().show()"
   ]
  },
  {
   "cell_type": "markdown",
   "metadata": {},
   "source": [
    "### There are too many categories in Ship_name and Cruise_line to be used as a variable"
   ]
  },
  {
   "cell_type": "code",
   "execution_count": 12,
   "metadata": {},
   "outputs": [
    {
     "data": {
      "text/plain": [
       "110"
      ]
     },
     "execution_count": 12,
     "metadata": {},
     "output_type": "execute_result"
    }
   ],
   "source": [
    "train_data.select(\"Ship_name\").distinct().count()"
   ]
  },
  {
   "cell_type": "code",
   "execution_count": 13,
   "metadata": {},
   "outputs": [
    {
     "data": {
      "text/plain": [
       "20"
      ]
     },
     "execution_count": 13,
     "metadata": {},
     "output_type": "execute_result"
    }
   ],
   "source": [
    "train_data.select('Cruise_line').distinct().count()"
   ]
  },
  {
   "cell_type": "code",
   "execution_count": 14,
   "metadata": {},
   "outputs": [
    {
     "name": "stdout",
     "output_type": "stream",
     "text": [
      "+-----------------+------------------+------------------+------------------+------------------+------------------+----------------------+------------------+\n",
      "|      Cruise_line|          avg(Age)|      avg(Tonnage)|   avg(passengers)|       avg(length)|       avg(cabins)|avg(passenger_density)|         avg(crew)|\n",
      "+-----------------+------------------+------------------+------------------+------------------+------------------+----------------------+------------------+\n",
      "|            Costa| 15.88888888888889|  71.5018888888889| 19.67111111111111| 8.085555555555555| 9.414444444444445|    36.586666666666666| 7.703333333333333|\n",
      "|              P&O|              14.0| 77.85883333333334|20.820000000000004|              8.64| 9.790000000000001|    38.175000000000004| 8.588333333333333|\n",
      "|           Cunard|               8.0|             120.7|              23.1|             10.48|            10.815|    51.394999999999996|            10.765|\n",
      "|Regent_Seven_Seas|              15.8|             32.14|             5.208| 5.775999999999999|2.0580000000000003|     59.24399999999999|             3.146|\n",
      "|              MSC|              12.5| 72.41683333333333|            20.985|             8.555| 9.766666666666667|    34.425000000000004| 8.391666666666667|\n",
      "|         Carnival| 15.61111111111111| 81.70222222222223|22.758888888888887| 8.848333333333333|11.175000000000002|                 35.91|10.032777777777778|\n",
      "|          Crystal|              14.0|59.501999999999995|10.100000000000001|             7.855|              5.15|                 58.61|             5.905|\n",
      "|           Orient|              48.0|             22.08|              8.26|              5.78|              4.25|                 26.73|               3.5|\n",
      "|         Princess|12.454545454545455| 85.06745454545455| 21.80909090909091| 8.507272727272728|10.536363636363635|     40.01090909090909| 9.185454545454546|\n",
      "|        Silversea|14.666666666666666|22.266666666666666|3.5533333333333332|5.6933333333333325|1.7866666666666664|     62.21333333333333|2.5966666666666667|\n",
      "|         Seabourn|              24.0|              10.0|              2.08|               4.4|              1.04|                 48.08|               1.6|\n",
      "| Holland_American|              18.1| 58.23280000000001|13.292999999999997|             7.633|6.6659999999999995|                 44.12| 5.968000000000001|\n",
      "|         Windstar|              25.0| 8.481666666666667|              2.11|              4.99|1.0133333333333334|     37.92333333333334|1.1866666666666668|\n",
      "|           Disney|              14.5|            83.169|              17.5|              9.64|              8.75|                47.525|              9.45|\n",
      "|        Norwegian|              19.5|           58.0212|            16.854|             7.734|             8.257|                33.533|             7.455|\n",
      "|          Oceania|              14.0|30.276999999999997|              6.84|              5.94|              3.42|                 44.26|               4.0|\n",
      "|          Azamara|               6.0|30.276999999999997|              6.94|              5.94|              3.55|                 42.64|              3.55|\n",
      "|        Celebrity|              13.7|           76.1586|17.979999999999997| 8.418000000000001|             8.064|                39.534|             8.072|\n",
      "|             Star|             20.25|          34.82175|10.282499999999999|             5.685|5.4399999999999995|               36.1975|            6.1975|\n",
      "|  Royal_Caribbean|12.833333333333334|109.63877777777776|28.845555555555556| 9.790555555555557|13.328333333333333|    37.753888888888895|10.163333333333334|\n",
      "+-----------------+------------------+------------------+------------------+------------------+------------------+----------------------+------------------+\n",
      "\n"
     ]
    }
   ],
   "source": [
    "train_data.groupby('Cruise_line').mean().show()"
   ]
  },
  {
   "cell_type": "code",
   "execution_count": 15,
   "metadata": {},
   "outputs": [
    {
     "name": "stdout",
     "output_type": "stream",
     "text": [
      "+-----------------+-----+\n",
      "|      Cruise_line|count|\n",
      "+-----------------+-----+\n",
      "|            Costa|    9|\n",
      "|              P&O|    6|\n",
      "|           Cunard|    2|\n",
      "|Regent_Seven_Seas|    5|\n",
      "|              MSC|    6|\n",
      "|         Carnival|   18|\n",
      "|          Crystal|    2|\n",
      "|           Orient|    1|\n",
      "|         Princess|   11|\n",
      "|        Silversea|    3|\n",
      "|         Seabourn|    2|\n",
      "| Holland_American|   10|\n",
      "|         Windstar|    3|\n",
      "|           Disney|    2|\n",
      "|        Norwegian|   10|\n",
      "|          Oceania|    2|\n",
      "|          Azamara|    2|\n",
      "|        Celebrity|   10|\n",
      "|             Star|    4|\n",
      "|  Royal_Caribbean|   18|\n",
      "+-----------------+-----+\n",
      "\n"
     ]
    }
   ],
   "source": [
    "train_data.groupby('Cruise_line').count().show()"
   ]
  },
  {
   "cell_type": "markdown",
   "metadata": {},
   "source": [
    "### Variable Selection Using Correlation"
   ]
  },
  {
   "cell_type": "code",
   "execution_count": 16,
   "metadata": {
    "collapsed": true
   },
   "outputs": [],
   "source": [
    "from pyspark.ml.linalg import Vectors\n",
    "from pyspark.ml.feature import VectorAssembler\n",
    "\n",
    "from pyspark.ml.stat import Correlation\n",
    "import pandas as pd\n",
    "import matplotlib.pyplot as plt"
   ]
  },
  {
   "cell_type": "code",
   "execution_count": 17,
   "metadata": {
    "collapsed": true
   },
   "outputs": [],
   "source": [
    "def print_corr_mat(numeric_cols):\n",
    "    assembler = VectorAssembler(inputCols=numeric_cols, outputCol='corr_labels')\n",
    "    corr_data = assembler.transform(train_data)\n",
    "    corr_mat = Correlation.corr(corr_data,'corr_labels').head()\n",
    "\n",
    "    corr_pddf = pd.DataFrame(data=corr_mat[0].toArray(), index=numeric_cols, columns=numeric_cols)\n",
    "    \n",
    "    sns.heatmap(corr_pddf, annot=True)\n"
   ]
  },
  {
   "cell_type": "code",
   "execution_count": 18,
   "metadata": {},
   "outputs": [
    {
     "data": {
      "image/png": "[encoded data removed]",
      "text/plain": [
       "<matplotlib.figure.Figure at 0x14950777ba8>"
      ]
     },
     "metadata": {},
     "output_type": "display_data"
    }
   ],
   "source": [
    "print_corr_mat(['Age', 'Tonnage', 'passengers', 'length', 'cabins', 'passenger_density', 'crew'])"
   ]
  },
  {
   "cell_type": "markdown",
   "metadata": {},
   "source": [
    "### Age and Cabins are the only viable features due to their correlation with Crew and lack of correlation with other variables"
   ]
  },
  {
   "cell_type": "code",
   "execution_count": 19,
   "metadata": {
    "collapsed": true
   },
   "outputs": [],
   "source": [
    "no_corr_cols = ['Age', 'cabins']"
   ]
  },
  {
   "cell_type": "code",
   "execution_count": 20,
   "metadata": {},
   "outputs": [
    {
     "data": {
      "image/png": "[encoded data removed]",
      "text/plain": [
       "<matplotlib.figure.Figure at 0x14965a900f0>"
      ]
     },
     "metadata": {},
     "output_type": "display_data"
    }
   ],
   "source": [
    "print_corr_mat(no_corr_cols)"
   ]
  },
  {
   "cell_type": "code",
   "execution_count": 21,
   "metadata": {
    "collapsed": true
   },
   "outputs": [],
   "source": [
    "def lr_model(no_corr_cols, train_data, test_data):\n",
    "    assembler = VectorAssembler(inputCols=no_corr_cols, outputCol='features')\n",
    "\n",
    "    output_train = assembler.transform(train_data)\n",
    "    output_test = assembler.transform(test_data)\n",
    "\n",
    "    final_train_data = output_train.select('features', 'crew')\n",
    "    final_test_data = output_test.select('features', 'crew')\n",
    "\n",
    "    from pyspark.ml.regression import LinearRegression\n",
    "\n",
    "    lr = LinearRegression(labelCol='crew')\n",
    "    lr_model = lr.fit(final_train_data)\n",
    "    lr_summary = lr_model.summary\n",
    "\n",
    "    print('Model Intercept: ',lr_model.intercept)\n",
    "    print('Coefficients:')\n",
    "    for i,j in zip(no_corr_cols, lr_model.coefficients):\n",
    "        print(i,':',j)\n",
    "    print()\n",
    "    \n",
    "    print('P-values:')\n",
    "    for i,j in zip(no_corr_cols, lr_summary.pValues):\n",
    "        print(i,':',j)\n",
    "    print()\n",
    "    \n",
    "    print('Model Performance Training Set:')\n",
    "    train_result = lr_model.evaluate(final_train_data)\n",
    "    print('R-squared:',str(train_result.r2))\n",
    "    print('MAE:',str(train_result.meanAbsoluteError))\n",
    "    \n",
    "    return final_train_data, final_test_data, lr_model"
   ]
  },
  {
   "cell_type": "markdown",
   "metadata": {},
   "source": [
    "### Training Set Performance"
   ]
  },
  {
   "cell_type": "code",
   "execution_count": 22,
   "metadata": {},
   "outputs": [
    {
     "name": "stdout",
     "output_type": "stream",
     "text": [
      "Model Intercept:  2.0059668905173997\n",
      "Coefficients:\n",
      "Age : -0.03301711536357962\n",
      "cabins : 0.7172900059001093\n",
      "\n",
      "P-values:\n",
      "Age : 0.0462056754362179\n",
      "cabins : 0.0\n",
      "\n",
      "Model Performance Training Set:\n",
      "R-squared: 0.899403118151567\n",
      "MAE: 0.7579627519846897\n"
     ]
    }
   ],
   "source": [
    "final_train_data, final_test_data, lr_model = lr_model(no_corr_cols, train_data, test_data)"
   ]
  },
  {
   "cell_type": "markdown",
   "metadata": {},
   "source": [
    "### Test Set Performance"
   ]
  },
  {
   "cell_type": "code",
   "execution_count": 23,
   "metadata": {
    "collapsed": true
   },
   "outputs": [],
   "source": [
    "test_result = lr_model.evaluate(final_test_data)"
   ]
  },
  {
   "cell_type": "code",
   "execution_count": 24,
   "metadata": {},
   "outputs": [
    {
     "data": {
      "text/plain": [
       "0.9430137452165632"
      ]
     },
     "execution_count": 24,
     "metadata": {},
     "output_type": "execute_result"
    }
   ],
   "source": [
    "test_result.r2"
   ]
  },
  {
   "cell_type": "code",
   "execution_count": 25,
   "metadata": {},
   "outputs": [
    {
     "data": {
      "text/plain": [
       "0.5963158832841384"
      ]
     },
     "execution_count": 25,
     "metadata": {},
     "output_type": "execute_result"
    }
   ],
   "source": [
    "test_result.meanAbsoluteError"
   ]
  },
  {
   "cell_type": "code",
   "execution_count": null,
   "metadata": {
    "collapsed": true
   },
   "outputs": [],
   "source": []
  }
 ],
 "metadata": {
  "anaconda-cloud": {},
  "kernelspec": {
   "display_name": "Python 3",
   "language": "python",
   "name": "python3"
  },
  "language_info": {
   "codemirror_mode": {
    "name": "ipython",
    "version": 3
   },
   "file_extension": ".py",
   "mimetype": "text/x-python",
   "name": "python",
   "nbconvert_exporter": "python",
   "pygments_lexer": "ipython3",
   "version": "3.5.3"
  }
 },
 "nbformat": 4,
 "nbformat_minor": 1
}
